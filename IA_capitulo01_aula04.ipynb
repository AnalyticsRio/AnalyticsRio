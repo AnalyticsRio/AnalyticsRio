{
  "nbformat": 4,
  "nbformat_minor": 0,
  "metadata": {
    "colab": {
      "provenance": [],
      "authorship_tag": "ABX9TyPyKTeI3S69gkna7f4ucAf0",
      "include_colab_link": true
    },
    "kernelspec": {
      "name": "python3",
      "display_name": "Python 3"
    },
    "language_info": {
      "name": "python"
    }
  },
  "cells": [
    {
      "cell_type": "markdown",
      "metadata": {
        "id": "view-in-github",
        "colab_type": "text"
      },
      "source": [
        "<a href=\"https://colab.research.google.com/github/AnalyticsRio/AnalyticsRio/blob/main/IA_capitulo01_aula04.ipynb\" target=\"_parent\"><img src=\"https://colab.research.google.com/assets/colab-badge.svg\" alt=\"Open In Colab\"/></a>"
      ]
    },
    {
      "cell_type": "code",
      "execution_count": 2,
      "metadata": {
        "colab": {
          "base_uri": "https://localhost:8080/"
        },
        "id": "RiGVSekhIw75",
        "outputId": "27ac0e70-d0b3-4bcb-9257-c9a31ab7850f"
      },
      "outputs": [
        {
          "output_type": "stream",
          "name": "stdout",
          "text": [
            "Olá Renato Medeiros seja bem-vindo!\n"
          ]
        }
      ],
      "source": [
        "nome = 'Renato Medeiros'\n",
        "print('Olá', nome, 'seja bem-vindo!')"
      ]
    },
    {
      "cell_type": "code",
      "source": [
        "pessoa = 'Wagner Medeiros'\n",
        "print('O nome do meu pai é', pessoa)"
      ],
      "metadata": {
        "colab": {
          "base_uri": "https://localhost:8080/"
        },
        "id": "_blsO69FJJkc",
        "outputId": "71439255-3e1c-412f-d395-d100decf8f42"
      },
      "execution_count": 4,
      "outputs": [
        {
          "output_type": "stream",
          "name": "stdout",
          "text": [
            "O nome do meu pai é Wagner Medeiros\n"
          ]
        }
      ]
    },
    {
      "cell_type": "code",
      "source": [
        "numero = 1\n",
        "numero + 2"
      ],
      "metadata": {
        "colab": {
          "base_uri": "https://localhost:8080/"
        },
        "id": "ewIZG2KqJXLW",
        "outputId": "eccd9e2c-8eb4-4190-8ed1-d809d6806a69"
      },
      "execution_count": 5,
      "outputs": [
        {
          "output_type": "execute_result",
          "data": {
            "text/plain": [
              "3"
            ]
          },
          "metadata": {},
          "execution_count": 5
        }
      ]
    }
  ]
}